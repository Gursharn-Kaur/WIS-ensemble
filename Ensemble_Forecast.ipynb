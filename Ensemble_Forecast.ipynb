{
 "cells": [
  {
   "cell_type": "markdown",
   "metadata": {},
   "source": [
    "# Import all necessary modules"
   ]
  },
  {
   "cell_type": "code",
   "execution_count": null,
   "metadata": {},
   "outputs": [],
   "source": [
    "# import all neceassary modules\n",
    "import sys\n",
    "from Experimentation.monte_carlo import *\n",
    "from Experimentation.ensemble_models import *\n",
    "from Experimentation.get_alpha import *\n",
    "from Experimentation.quantile import *\n",
    "from Experimentation.weighting_scheme import *\n",
    "from Experimentation.wis_score import *\n",
    "from Experimentation.model_averaging import *\n",
    "import numpy as np\n",
    "import pandas as pd\n",
    "import random\n",
    "random.seed(42)\n",
    "np.random.seed(42)"
   ]
  },
  {
   "cell_type": "code",
   "execution_count": null,
   "metadata": {},
   "outputs": [],
   "source": [
    "filename = 'data/alpha.txt'\n",
    "alphas = get_alpha(filename)\n",
    "\n",
    "state = 'New York' #if use Monroe or SantaRosa for Monroe or Santa Rosa county\n",
    "\n",
    "if state=='New York':\n",
    "    s_id = '36'\n",
    "elif state=='Monroe':\n",
    "    s_id='Monroe'\n",
    "elif state=='Santa Rosa':\n",
    "    s_id='SantaRosa'"
   ]
  },
  {
   "cell_type": "markdown",
   "metadata": {},
   "source": [
    "# Ensemble Weights Calculation\n",
    "\n",
    "Weights are calculated based on the formula used in paper."
   ]
  },
  {
   "cell_type": "code",
   "execution_count": null,
   "metadata": {
    "tags": []
   },
   "outputs": [],
   "source": [
    "\n",
    "fname = 'data/all_methods_state_{}.csv'.format(51)\n",
    "data = pd.read_csv(fname, dtype={'location':str,'FIPS':str}, parse_dates=['target_end_date','forecast_date'], index_col=0)\n",
    "# data = data[data.forecast_date<pd.to_datetime('2021-01-01')]\n",
    "\n",
    "# phases = pd.read_csv('NY_phts_ind_2022-01-15.csv', parse_dates=['target_end_date','V1'])\n",
    "# phases['V1'] = phases['V1'] + pd.Timedelta(days=1) \n",
    "\n",
    "data = model_weights(data, t_p=4)\n",
    "data = change_weights_format(data)\n",
    "data.to_csv('weights/weights_'+fname.split('/')[-1]) ## creates a new file containing weights"
   ]
  },
  {
   "cell_type": "markdown",
   "metadata": {},
   "source": [
    "# Ensemble Forecast using LOP, Vincent, Mean, Median averaging"
   ]
  },
  {
   "cell_type": "code",
   "execution_count": null,
   "metadata": {},
   "outputs": [],
   "source": [
    "fname = 'weights/phase_weights_all_methods_state_{}.csv'.format(s_id)\n",
    "weights = pd.read_csv(fname, dtype={'location':str,'FIPS':str}, parse_dates=['target_end_date','forecast_date'], index_col=0)\n",
    "f_fname = 'all_methods_state_{}.csv'.format(s_id)\n",
    "data = pd.read_csv(f_fname, dtype={'location':str,'FIPS':str}, parse_dates=['target_end_date','forecast_date'], index_col=0)\n",
    "out = Vincent_Ensemble(data, weights, alphas)  ## for vincent use Vincent_Ensemble, for mean use Mean_Ensemble, and for median use Median_Ensemble\n",
    "out.to_csv('Vincent-Ensemble_{}.csv'.format(s_id))"
   ]
  },
  {
   "cell_type": "markdown",
   "metadata": {},
   "source": [
    "# Calculate WIS"
   ]
  },
  {
   "cell_type": "code",
   "execution_count": null,
   "metadata": {
    "tags": []
   },
   "outputs": [],
   "source": [
    "import glob\n",
    "for file in glob.glob('Vincent-Ensemble_*.csv'):\n",
    "    \n",
    "    # fname = 'Vincent-Ensemble_{}_phases.csv'.format(s_id) #filename to get WIS score\n",
    "    fname = file.split('/')[-1]\n",
    "    data = pd.read_csv(file, dtype={'location':str,'FIPS':str}, parse_dates=['target_end_date','forecast_date'], index_col=0)\n",
    "    data = get_all_wis_score(data, alphas)\n",
    "    data.to_csv(file)"
   ]
  },
  {
   "cell_type": "code",
   "execution_count": null,
   "metadata": {
    "tags": []
   },
   "outputs": [],
   "source": [
    "###get median\n",
    "for file in glob.glob('wis-ensemble/*'):\n",
    "    fname = file.split('/')[-1].split('.')[0]\n",
    "# fname = 'Vincent-Ensemble_{}.csv'.format(s_id) #filename to get WIS score\n",
    "    data = pd.read_csv(file, dtype={'location':str,'FIPS':str}, parse_dates=['target_end_date','forecast_date'], index_col=0)\n",
    "    data = get_all_wis_score(data, alphas)\n",
    "    data['mape'] = np.abs(data['q_0.5']-data['cases'])/data['cases'] \n",
    "    data['rwis'] = data['wis']/data['cases']\n",
    "    data = data[['forecast_date','target_end_date','target','method','wis','mape','FIPS','rwis']]\n",
    "    data = data.groupby(['forecast_date','target_end_date','target','method']).median().reset_index()\n",
    "    data = data.rename(columns={'method':'model'})\n",
    "    data.to_csv(f'Analysis/{fname}_median.csv')"
   ]
  }
 ],
 "metadata": {
  "kernelspec": {
   "display_name": "Python 3",
   "language": "python",
   "name": "python3"
  },
  "language_info": {
   "codemirror_mode": {
    "name": "ipython",
    "version": 3
   },
   "file_extension": ".py",
   "mimetype": "text/x-python",
   "name": "python",
   "nbconvert_exporter": "python",
   "pygments_lexer": "ipython3",
   "version": "3.11.4"
  }
 },
 "nbformat": 4,
 "nbformat_minor": 4
}
