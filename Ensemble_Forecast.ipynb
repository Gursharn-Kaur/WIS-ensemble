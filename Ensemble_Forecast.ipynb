{
 "cells": [
  {
   "cell_type": "markdown",
   "metadata": {},
   "source": [
    "# Import all necessary modules"
   ]
  },
  {
   "cell_type": "code",
   "execution_count": 2,
   "metadata": {},
   "outputs": [],
   "source": [
    "# import all neceassary modules\n",
    "from Experimentation.monte_carlo import *\n",
    "from Experimentation.ensemble_models import *\n",
    "from Experimentation.get_alpha import *\n",
    "from Experimentation.quantile import *\n",
    "from Experimentation.weighting_scheme import *\n",
    "from Experimentation.wis_score import *\n",
    "from Experimentation.model_averaging import *\n",
    "import numpy as np\n",
    "import pandas as pd\n",
    "import random\n",
    "random.seed(42)\n",
    "np.random.seed(42)"
   ]
  },
  {
   "cell_type": "code",
   "execution_count": 9,
   "metadata": {},
   "outputs": [],
   "source": [
    "filename = 'data/alpha.txt'\n",
    "alphas = get_alpha(filename)\n",
    "\n",
    "state = 'Monroe' #if use Monroe or SantaRosa for Monroe or Santa Rosa county\n",
    "\n",
    "if state=='New York':\n",
    "    s_id = '36'\n",
    "elif state=='Monroe':\n",
    "    s_id='Monroe'\n",
    "elif state=='Santa Rosa':\n",
    "    s_id='SantaRosa'"
   ]
  },
  {
   "cell_type": "markdown",
   "metadata": {},
   "source": [
    "# Ensemble Weights Calculation\n",
    "\n",
    "Weights are calculated based on the formula used in paper."
   ]
  },
  {
   "cell_type": "code",
   "execution_count": 11,
   "metadata": {
    "collapsed": true,
    "jupyter": {
     "outputs_hidden": true
    }
   },
   "outputs": [
    {
     "name": "stdout",
     "output_type": "stream",
     "text": [
      "1\n",
      "1\n",
      "1\n",
      "1\n",
      "1\n",
      "1\n",
      "1\n",
      "1\n"
     ]
    }
   ],
   "source": [
    "fname = 'data/all_methods_state_{}.csv'.format(s_id)\n",
    "data = pd.read_csv(fname, dtype={'location':str,'FIPS':str}, parse_dates=['target_end_date','forecast_date'], index_col=0)\n",
    "data = model_weights(data, t_p=4)\n",
    "data = change_weights_format(data)\n",
    "data.to_csv('weights_'+fname.split('/')[-1]) ## creates a new file containing weights"
   ]
  },
  {
   "cell_type": "markdown",
   "metadata": {},
   "source": [
    "# Ensemble Forecast using LOP, Vincent, Mean, Median averaging"
   ]
  },
  {
   "cell_type": "code",
   "execution_count": 8,
   "metadata": {},
   "outputs": [],
   "source": [
    "fname = 'weights_all_methods_state_{}.csv'.format(s_id)\n",
    "weights = pd.read_csv(fname, dtype={'location':str,'FIPS':str}, parse_dates=['target_end_date','forecast_date'], index_col=0)\n",
    "f_fname = 'data/all_methods_state_{}.csv'.format(s_id)\n",
    "data = pd.read_csv(f_fname, dtype={'location':str,'FIPS':str}, parse_dates=['target_end_date','forecast_date'], index_col=0)\n",
    "out = LOP_Ensemble(data, weights, alphas)  ## for vincent use Vincent_Ensemble, for mean use Mean_Ensemble, and for median use Median_Ensemble\n",
    "out.to_csv('LOP-Ensemble_{}.csv'.format(s_id))"
   ]
  },
  {
   "cell_type": "markdown",
   "metadata": {},
   "source": [
    "# Calculate WIS"
   ]
  },
  {
   "cell_type": "code",
   "execution_count": null,
   "metadata": {},
   "outputs": [],
   "source": [
    "fname = 'LOP-Ensemble_{}.csv'.format(s_id) #filename to get WIS score\n",
    "data = pd.read_csv(fname, dtype={'location':str,'FIPS':str}, parse_dates=['target_end_date','forecast_date'], index_col=0)\n",
    "data = get_all_wis_score(data)\n",
    "data.to_csv(fname)"
   ]
  }
 ],
 "metadata": {
  "kernelspec": {
   "display_name": "Python 3",
   "language": "python",
   "name": "python3"
  },
  "language_info": {
   "codemirror_mode": {
    "name": "ipython",
    "version": 3
   },
   "file_extension": ".py",
   "mimetype": "text/x-python",
   "name": "python",
   "nbconvert_exporter": "python",
   "pygments_lexer": "ipython3",
   "version": "3.8.8"
  }
 },
 "nbformat": 4,
 "nbformat_minor": 4
}
